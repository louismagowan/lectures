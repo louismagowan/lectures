{
 "cells": [
  {
   "cell_type": "markdown",
   "metadata": {
    "slideshow": {
     "slide_type": "slide"
    }
   },
   "source": [
    "### MY470 Computer Programming\n",
    "# Order of Growth\n",
    "### Week 9 Lab"
   ]
  },
  {
   "cell_type": "markdown",
   "metadata": {
    "slideshow": {
     "slide_type": "slide"
    }
   },
   "source": [
    "Algorithmic complexity is a measure of how long an algorithm would take to complete given an input of size n.\n",
    "\n",
    "![Big-O Comparison](figs/big-o-table.png \"Big-O Comparison\")\n",
    "\n",
    "NOTE: As complexity is often related to divide and conquer algorithms, O(log(n)) is generally a good complexity you can reach for sorting algorithms. O(log(n)) is less complex than O(√n), because the square root function can be considered a polynomial, where the exponent is 0.5.\n",
    "\n",
    "**We generally focus on algorithmic complexity but the analysis of space is simular.**\n",
    "\n",
    "The space complexity is related to how much memory the program will use, and therefore is also an important factor to analyze.\n",
    "\n",
    "The space complexity works similarly to time complexity. For example, selection sort has a space complexity of O(1), because it only stores one minimum value and its index for comparison, the maximum space used does not increase with the input size."
   ]
  },
  {
   "cell_type": "markdown",
   "metadata": {
    "slideshow": {
     "slide_type": "slide"
    }
   },
   "source": [
    "## Runtime: Benchmarking\n",
    "\n",
    "Use `time` module:\n",
    "\n",
    "1. Save time immediately before code\n",
    "2. Save time immediately after code\n",
    "3. Estimate 2. – 1.\n",
    "\n",
    "You will typically see this method used on Stack Overflow to compare the efficiency of certain methods or functions."
   ]
  },
  {
   "cell_type": "markdown",
   "metadata": {},
   "source": [
    "### The time module\n",
    "\n",
    "The `time()` function returns the number of seconds passed since epoch.\n",
    "\n",
    "For Unix systems (which is generally whst we work with), January 1, 1970, 00:00:00 at UTC is epoch (the point where time begins).\n",
    "\n",
    "\n",
    "![Epoch meme](https://laughingsquid.com/wp-content/uploads/unix-epoch.png)\n",
    "\n",
    "\n",
    "Early Unix engineers picked that date arbitrarily because they needed to set a uniform date for the start of time, and New Year's Day, 1970, seemed most convenient as the first edition Unix Programmer's Manual dated November 3, 1971."
   ]
  },
  {
   "cell_type": "code",
   "execution_count": 13,
   "metadata": {},
   "outputs": [
    {
     "name": "stdout",
     "output_type": "stream",
     "text": [
      "Seconds since unix epoch = 1637685684.6549916\n"
     ]
    }
   ],
   "source": [
    "import time\n",
    "\n",
    "seconds = time.time()\n",
    "print(\"Seconds since unix epoch =\", seconds)"
   ]
  },
  {
   "cell_type": "markdown",
   "metadata": {},
   "source": [
    "### Y2K Bug\n",
    "\n",
    "Also called the Millenium bug or the Year 2000 problem, the Y2K bug referred to potential computer errors related to the formatting and storage of calendar data for dates in and after the year 2000. \n",
    "\n",
    "Many programs represented four-digit years with only the final two digits, making the year 2000 indistinguishable from 1900. \n",
    "\n",
    "Computer systems' inability to distinguish dates correctly had the potential to bring down worldwide infrastructures for industries ranging from banking to air travel. \n",
    "\n",
    "The bug did have some tangible consequences, but this was largely minimised by updating computer systems\n",
    "\n",
    "![Bug](https://ichef.bbci.co.uk/news/640/cpsprodpb/B4FE/production/_102843364_millnc-nc.png)"
   ]
  },
  {
   "cell_type": "markdown",
   "metadata": {},
   "source": [
    "## How to use time\n",
    "\n",
    "When we are using `time.time()` to see how long our code runs, we are looking at the difference between two times since unix epoch. "
   ]
  },
  {
   "cell_type": "code",
   "execution_count": 6,
   "metadata": {
    "slideshow": {
     "slide_type": "-"
    }
   },
   "outputs": [
    {
     "name": "stdout",
     "output_type": "stream",
     "text": [
      "Start time: 1637670460.498398\n",
      "End time: 1637670460.5053782\n",
      "Total running time: 0.006980180740356445\n"
     ]
    }
   ],
   "source": [
    "import time\n",
    "\n",
    "# Create a list\n",
    "ls = list(range(100000))\n",
    "\n",
    "start = time.time()\n",
    "print(\"Start time:\", start)\n",
    "\n",
    "# Count the number of times appears in list.\n",
    "ls.count(99999)\n",
    "\n",
    "end = time.time()\n",
    "print(\"End time:\", end)\n",
    "\n",
    "print(\"Total running time:\", end - start)\n"
   ]
  },
  {
   "cell_type": "markdown",
   "metadata": {
    "slideshow": {
     "slide_type": "slide"
    }
   },
   "source": [
    "## Benchmarking: Repeat to Time More Accurately\n",
    "\n",
    "Like when we are counting any performance metric, we often want to average over repeated measures. \n",
    "\n",
    "* Execution time can be affected by other processes running simultaneously\n",
    "* Execution time can depend on the order of execution (randomize execution order)"
   ]
  },
  {
   "cell_type": "code",
   "execution_count": 14,
   "metadata": {
    "slideshow": {
     "slide_type": "fragment"
    }
   },
   "outputs": [
    {
     "name": "stdout",
     "output_type": "stream",
     "text": [
      "0.002822544574737549\n"
     ]
    },
    {
     "data": {
      "text/plain": [
       "0.0027606399999967834"
      ]
     },
     "execution_count": 14,
     "metadata": {},
     "output_type": "execute_result"
    }
   ],
   "source": [
    "# Do it yourself: Using a loop to time\n",
    "ls = list(range(100000))\n",
    "\n",
    "res = 0\n",
    "for i in range(100):\n",
    "    start = time.time()\n",
    "    ls.count(99999)\n",
    "    end = time.time()\n",
    "    res += end - start\n",
    "print(res / 100)\n",
    "\n",
    "# Use a module\n",
    "# This is what you are more likely to see on Stack Overflow\n",
    "from timeit import timeit \n",
    "\n",
    "timeit(stmt='ls.count(99999)', setup='ls = list(range(100000))', number=100) / 100"
   ]
  },
  {
   "cell_type": "markdown",
   "metadata": {},
   "source": [
    "### Timeit Module\n",
    "\n",
    "This module provides a simple way to time small bits of Python code. It has both a Command-Line Interface as well as a callable one. \n",
    "\n",
    "In the CLI the syntax is simular to running a module (as we looked at last week) from the terminal/Prompt.\n",
    "\n",
    "```\n",
    "> python -m timeit '\"-\".join(str(n) for n in range(100))'\n",
    "```\n",
    "\n",
    "More information: https://docs.python.org/3/library/timeit.html\n",
    "\n",
    "The module function `timeit.timeit(stmt, setup, timer, number)` accepts four arguments: \n",
    "\n",
    "* stmt which is the statement you want to measure; it defaults to ‘pass’.\n",
    "* setup which is the code that you run before running the stmt; it defaults to ‘pass’. We generally use this to import the required modules for our code.\n",
    "* timer which is a timeit.Timer object; it usually has a sensible default value so you don’t have to worry about it.\n",
    "* number which is the number of executions you’d like to run the stmt."
   ]
  },
  {
   "cell_type": "code",
   "execution_count": 10,
   "metadata": {},
   "outputs": [
    {
     "name": "stdout",
     "output_type": "stream",
     "text": [
      "0.002200899999934336\n"
     ]
    }
   ],
   "source": [
    "# Code snippet to be executed only once.\n",
    "# Note that this is a string.\n",
    "mysetup = \"from math import sqrt\"\n",
    " \n",
    "# Code snippet whose execution time is to be measured\n",
    "# We can have multi line code more easily by formatting \n",
    "# simular to a docstring.\n",
    "mycode = '''\n",
    "def example():\n",
    "    mylist = []\n",
    "    for x in range(100):\n",
    "        mylist.append(sqrt(x))\n",
    "'''\n",
    " \n",
    "# timeit statement\n",
    "print (timeit(setup = mysetup,\n",
    "              stmt = mycode,\n",
    "              number = 10000))"
   ]
  },
  {
   "cell_type": "markdown",
   "metadata": {
    "collapsed": true,
    "slideshow": {
     "slide_type": "fragment"
    }
   },
   "source": [
    "### R code\n",
    "\n",
    "In R, we can use the package `microbenchmark` to calculate runtime.\n",
    "\n",
    "```(R)\n",
    "require(microbenchmark)\n",
    "\n",
    "ls <- seq(0, 99999)\n",
    "microbenchmark(sum(ls == 99999))\n",
    "```\n",
    "\n",
    "Output:\n",
    "```\n",
    "Unit: microseconds\n",
    "           expr     min      lq     mean  median       uq      max neval\n",
    "sum(ls == 99999) 368.309 416.865 684.3047 559.569 706.2215 3955.864   100\n",
    "\n",
    "```"
   ]
  },
  {
   "cell_type": "markdown",
   "metadata": {
    "slideshow": {
     "slide_type": "slide"
    }
   },
   "source": [
    "## Runtime: Order of Growth\n",
    "\n",
    "Order of growth means how your algorithm’s **time and space** is going to increase or decrease when you increase or decrease the size of the input.\n",
    "\n",
    "We can’t measure exactly what the order of growth of any algorithm with the input size “n” is so we approximate the order of growth of our algorithm by using Big-O notations.\n",
    "\n",
    "Big-O is the most famous because it gives the upper bound of the algorithm.\n",
    "\n",
    "The O is short for “Order of”. So, if we’re discussing an algorithm with O(n^2), we say its order of, or rate of growth, is n^2, or quadratic complexity.\n",
    "\n",
    "![BigO](https://i.stack.imgur.com/B0TL9.jpg)\n",
    "\n",
    "The points to consider are:\n",
    "* Consider the worst-case scenario\n",
    "* Look at:\n",
    "    * Function and method calls \n",
    "    * Recursive calls\n",
    "    * Loops\n",
    "* Keep the term with the largest growth rate\n",
    "* Drop any constants from the remaining term"
   ]
  },
  {
   "cell_type": "markdown",
   "metadata": {},
   "source": [
    "## O(log n) and O(n log n)\n",
    "\n",
    "**What is O(log n)?** The most common attributes of logarithmic running-time function are that (1) the choice of the next element on which to perform some action is one of several possibilities, and only one will need to be chosen OR (2) the elements on which the action is performed are digits of n.\n",
    "\n",
    "**What is O(n log n)?** Well it’s n, a linear time complexity, multiplied by log n, a logarithmic time complexity Whilst we drop the non-dominant terms in Big-O, that’s generally when we are adding two different complexities, such as n^2 + n. Here, we are using multiplication. We can’t simplify n * log n any further, so we keep both terms.\n",
    "\n",
    "O(n log n) gives us a means of notating the rate of growth of an algorithm that performs better than O(n^2) but not as well as O(n)."
   ]
  },
  {
   "cell_type": "markdown",
   "metadata": {},
   "source": [
    "## Practical Example of Big-O\n",
    "\n",
    "[Let’s consider a example](https://stackoverflow.com/questions/64604688/what-is-order-of-growth-and-how-do-you-compute-it) which allows us to compare Big-O notation for similar tasks. **Lets consider scenario where we have 100 rows of data on individual users, for each order of complexity what exactly could we be doing?** These are ordered in most to least efficient.\n",
    "\n",
    "### O(1)\n",
    "* We just want to print the first row of the data. \n",
    "* It does not matter how much data you are processing, it will still take you the same (constant) amount of time\n",
    "\n",
    "### O(log(n))\n",
    "* This is typical of algorithms searching **sorted** data.\n",
    "* If our data is sorted and you are looking for some name (alphabetically), that would require just a few comparisons. \n",
    "* With each comparison, you cut the data into half and will find the name within a reasonable number of operations.\n",
    "\n",
    "### O(n)\n",
    "* If we would like to print all the data, you would have to call print on each row. \n",
    "* For 100 rows you would have to do 100 operations and for 1000 rows 1000 operations. \n",
    "* This means that amount of work you need is directly proportional to the amount of data you are processing.\n",
    "\n",
    "### O(n\\*n) OR O(n^c)\n",
    "* If we would like to find duplicate rows in the data we would need to compare each row with every other row.\n",
    "* We would have to do 10,000 comparisons for 100 rows and 1000,000 comparisons for 1000 rows\n",
    "\n",
    "### O(e^n)\n",
    "* Our data is growing very very fast (exponentially).\n",
    "* Say we have 100 rows with random numbers, and we want to find all subsets of the data with a total (sum) of 100.\n",
    "\n",
    "### O(n!)\n",
    "* A typical example is solving the traveling salesman problem (visiting all cities with the shortest path) with a brute-force search. \n",
    "* If there were 100 rows with 100 cities and you would like to know what is the order in which you should visit them, so that you will take the shortest path you would need to calculate distances for every possible travel combination.\n",
    "* It would mean to perform a number of operations with 157 zeroes and for 1000 cities the number would have thousands of zeroes."
   ]
  },
  {
   "cell_type": "markdown",
   "metadata": {},
   "source": [
    "## Exercises"
   ]
  },
  {
   "cell_type": "markdown",
   "metadata": {
    "slideshow": {
     "slide_type": "slide"
    }
   },
   "source": [
    "**Exercise 1**: The following functions show the average number of operations required to perform some algorithm on a list of length $n$. Give the Big-O notation for the time complexity of each algorithm:\n",
    "\n",
    "a) $4n^2 + 2n + 2$\n",
    "\n",
    "b) $n + \\log n$\n",
    "\n",
    "c) $n \\log n$\n",
    "\n",
    "d) 3"
   ]
  },
  {
   "cell_type": "code",
   "execution_count": 4,
   "metadata": {
    "collapsed": true,
    "slideshow": {
     "slide_type": "slide"
    }
   },
   "outputs": [],
   "source": [
    "# Exercise 2: What is the order of growth of the function below?\n",
    "\n",
    "def sum_product(ls):\n",
    "    summ, product = 0, 1\n",
    "    for i in range(len(ls)):\n",
    "        summ += ls[i]\n",
    "    for j in range(len(ls)):\n",
    "        product *= ls[j]\n",
    "    return summ, product    \n"
   ]
  },
  {
   "cell_type": "code",
   "execution_count": 5,
   "metadata": {
    "collapsed": true,
    "scrolled": true,
    "slideshow": {
     "slide_type": "-"
    }
   },
   "outputs": [],
   "source": [
    "# Exercise 3: What is the order of growth of the function below?\n",
    "\n",
    "def combine(la, lb):\n",
    "    for i in la:\n",
    "        for j in lb:\n",
    "            if i < j:\n",
    "                print(i, '-', j)\n"
   ]
  },
  {
   "cell_type": "code",
   "execution_count": 6,
   "metadata": {
    "collapsed": true,
    "slideshow": {
     "slide_type": "-"
    }
   },
   "outputs": [],
   "source": [
    "# Exercise 4: What is the order of growth of the function below?\n",
    "\n",
    "def sum_digits(n):\n",
    "    \"\"\"Take positive integer n and sum its digits.\"\"\"\n",
    "    summ = 0\n",
    "    while n > 0:\n",
    "        summ += int(n % 10)\n",
    "        n = int(n / 10)\n",
    "    return summ\n"
   ]
  },
  {
   "cell_type": "code",
   "execution_count": null,
   "metadata": {
    "collapsed": true,
    "slideshow": {
     "slide_type": "slide"
    }
   },
   "outputs": [],
   "source": [
    "# Exercise 5: This is code submitted by a student for Problem 2 \n",
    "# in Assignment 3. Given an edge list of coauthors in data, \n",
    "# the task was to create a sorted list of all unique authors. \n",
    "# What is the order of growth of this code? What is wrong here? \n",
    "# How would you rewrite the code to make it more efficient?\n",
    "\n",
    "lst = [] \n",
    "# Incremental notation.\n",
    "for i,j in coauthors: # O(n) - Iterate over coauthors\n",
    "    lst.append(int(i)) # \n",
    "    unique_authors = list(set(lst)) # O(n * n) - Set to remove duplicates\n",
    "    unique_authors.sort() # O(n * (n + n log n)) - Sorting\n",
    " "
   ]
  },
  {
   "cell_type": "code",
   "execution_count": 7,
   "metadata": {
    "collapsed": true,
    "slideshow": {
     "slide_type": "slide"
    }
   },
   "outputs": [],
   "source": [
    "# Exercise 6: Compare the execution time for loops \n",
    "# between R and Python using Exercise 4.\n",
    "# You can move to R Studio in order to complete this task\n"
   ]
  },
  {
   "cell_type": "code",
   "execution_count": null,
   "metadata": {
    "collapsed": true,
    "slideshow": {
     "slide_type": "-"
    }
   },
   "outputs": [],
   "source": [
    "# Exercise 7: Create a function to multiply each element of a \n",
    "# vector `v` by a scalar (i.e. a number) `m` in R with and without \n",
    "# a for-loop and compare their execution time.\n",
    "\n",
    "### R code ###\n",
    "multiply <- function (v, m) {\n",
    "  # Write with a for-loop\n",
    "}\n",
    "\n",
    "multiply2 <- function(v, m) {\n",
    "  # Write without a for-loop\n",
    "}\n",
    " "
   ]
  }
 ],
 "metadata": {
  "kernelspec": {
   "display_name": "Python 3",
   "language": "python",
   "name": "python3"
  },
  "language_info": {
   "codemirror_mode": {
    "name": "ipython",
    "version": 3
   },
   "file_extension": ".py",
   "mimetype": "text/x-python",
   "name": "python",
   "nbconvert_exporter": "python",
   "pygments_lexer": "ipython3",
   "version": "3.8.8"
  }
 },
 "nbformat": 4,
 "nbformat_minor": 2
}
