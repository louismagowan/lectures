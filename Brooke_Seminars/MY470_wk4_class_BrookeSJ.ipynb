{
 "cells": [
  {
   "cell_type": "markdown",
   "metadata": {
    "slideshow": {
     "slide_type": "slide"
    }
   },
   "source": [
    "## Using Docstrings (String Literals) to Specify Functions\n",
    "\n",
    "In programming, a docstring is a string literal specified in source code that is used, like a comment, to document a specific segment of code.\n",
    "\n",
    "A string literal or anonymous string is a type of literal in programming for the representation of a string value within the source code of a computer program. it is represented with ```\"\"\"```\n",
    "\n",
    "This means that when we use ```help()``` on our function, we see the information - Like below.\n",
    "\n",
    "In the docstring we have \n",
    "* The general purpose of the function\n",
    "* The parameters and assumptions (inputs and datatypes)\n",
    "* What the function returns / outputs"
   ]
  },
  {
   "cell_type": "code",
   "execution_count": 7,
   "metadata": {
    "scrolled": true,
    "slideshow": {
     "slide_type": "-"
    }
   },
   "outputs": [
    {
     "name": "stdout",
     "output_type": "stream",
     "text": [
      "Help on function f in module __main__:\n",
      "\n",
      "f(x, y)\n",
      "    Demonstrates the importance of providing specification for functions.\n",
      "    Assumes x and y any type.\n",
      "    Returns nothing.\n",
      "\n"
     ]
    }
   ],
   "source": [
    "def f(x, y):\n",
    "    \"\"\"Demonstrates the importance of providing specification for functions.\n",
    "    Assumes x and y any type.\n",
    "    Returns nothing.\n",
    "    \"\"\"\n",
    "    pass\n",
    "\n",
    "help(f)"
   ]
  },
  {
   "cell_type": "markdown",
   "metadata": {
    "slideshow": {
     "slide_type": "fragment"
    }
   },
   "source": [
    "![Commenting](figs/commenting.jpg \"Commenting\")"
   ]
  },
  {
   "cell_type": "markdown",
   "metadata": {
    "slideshow": {
     "slide_type": "slide"
    }
   },
   "source": [
    "## Using Functions Instead of Copy-Pasting Code\n",
    "\n",
    "If you are repeating lines of code, this is when you should use a function."
   ]
  },
  {
   "cell_type": "code",
   "execution_count": 5,
   "metadata": {
    "slideshow": {
     "slide_type": "-"
    }
   },
   "outputs": [
    {
     "name": "stdout",
     "output_type": "stream",
     "text": [
      "Alan Turing was a mathematician.\n",
      "Richard Feynman was a physicist.\n",
      "Marie Curie was a chemist.\n",
      "Charles Darwin was a biologist.\n",
      "Ada Lovelace was a mathematician.\n",
      "Werner Heisenberg was a physicist.\n"
     ]
    }
   ],
   "source": [
    "# Consider the following code:\n",
    "\n",
    "# Print the name and profession of famous dead scientists:\n",
    "print('Alan Turing was a mathematician.')\n",
    "print('Richard Feynman was a physicist.')\n",
    "print('Marie Curie was a chemist.')\n",
    "print('Charles Darwin was a biologist.')\n",
    "print('Ada Lovelace was a mathematician.')\n",
    "print('Werner Heisenberg was a physicist.')"
   ]
  },
  {
   "cell_type": "code",
   "execution_count": 13,
   "metadata": {
    "slideshow": {
     "slide_type": "-"
    }
   },
   "outputs": [],
   "source": [
    "# Exercise 2: Rewrite the code using a function and a suitable data structure.\n",
    "scientists_dict = {\"Alan Turing\":\"mathematician\",\n",
    "                  \"Richard Feynman\":\"physicist\",\n",
    "                  \"Marie Curie\":\"chemist\"}\n",
    "\n",
    "def scientist_printer(scientist, field):\n",
    "    \"\"\"Example function to print scientist's name and field\n",
    "    Takes name as string and field as string\n",
    "    Returns print statement\"\"\"\n",
    "    print(scientist + \" was a \" + scientists_dict[scientist])"
   ]
  },
  {
   "cell_type": "code",
   "execution_count": 14,
   "metadata": {},
   "outputs": [
    {
     "name": "stdout",
     "output_type": "stream",
     "text": [
      "Alan Turing was a mathematician\n",
      "Richard Feynman was a physicist\n",
      "Marie Curie was a chemist\n"
     ]
    }
   ],
   "source": [
    "for k,v in scientists_dict.items():\n",
    "    scientist_printer(k, v)"
   ]
  },
  {
   "cell_type": "markdown",
   "metadata": {
    "slideshow": {
     "slide_type": "slide"
    }
   },
   "source": [
    "## Using Functions to Improve Legibility and Modularity\n",
    "\n",
    "**Legibility:**\n",
    "The ease with which the software is read and understood. Making software more readable helps in reviewing and maintaining it over the course of its life. \n",
    "\n",
    "**Modularity:**\n",
    "The process of subdividing a computer program into separate sub-programs. We create parcels of code in functions that each do seperate, small tasks."
   ]
  },
  {
   "cell_type": "code",
   "execution_count": 17,
   "metadata": {
    "slideshow": {
     "slide_type": "-"
    }
   },
   "outputs": [
    {
     "name": "stdout",
     "output_type": "stream",
     "text": [
      "8.860022573334675\n"
     ]
    }
   ],
   "source": [
    "# Consider the following code:\n",
    "\n",
    "# You are given two points in 2-D space\n",
    "x = (1, 1)\n",
    "y = (5, 4)\n",
    "\n",
    "# Calculate the area of the circle if one of the points is the circle center \n",
    "# and the other is on the perimeter and then calculate the side of the square \n",
    "# with the same area\n",
    "r_sq = (x[0] - y[0])**2 + (x[1] - y[1])**2\n",
    "area = 3.14*r_sq\n",
    "sq_side = area**0.5\n",
    "print(sq_side)\n"
   ]
  },
  {
   "cell_type": "code",
   "execution_count": 15,
   "metadata": {
    "slideshow": {
     "slide_type": "-"
    }
   },
   "outputs": [],
   "source": [
    "# Exercise 3: Rewrite the code above using functions \n",
    "# to make it easier to read.\n",
    "def func1(x,y):\n",
    "    val = (x[0] - y[0])**2 + (x[1] - y[1])**2\n",
    "    return val\n",
    "\n",
    "def func2(val):\n",
    "    area = 3.14*val\n",
    "    return area\n",
    "\n",
    "def func3(area):\n",
    "    sq_side = area**0.5\n",
    "    return(sq_side)\n"
   ]
  },
  {
   "cell_type": "code",
   "execution_count": 19,
   "metadata": {},
   "outputs": [
    {
     "data": {
      "text/plain": [
       "8.860022573334675"
      ]
     },
     "execution_count": 19,
     "metadata": {},
     "output_type": "execute_result"
    }
   ],
   "source": [
    "func3(func2(func1(x,y)))"
   ]
  },
  {
   "cell_type": "markdown",
   "metadata": {
    "slideshow": {
     "slide_type": "slide"
    }
   },
   "source": [
    "## Using Functions Inside List Comprehensions\n",
    "\n",
    "We can use any expression inside the list comprehension, including functions and methods. \n",
    "\n",
    "Any function without return value, returns None per default.\n",
    "\n",
    "Remember that the syntax of a list comprehension is:\n",
    "\n",
    "```\n",
    "[expression for item in list]\n",
    "\n",
    "```\n",
    "\n",
    "But, we use our user-defined function in the expression."
   ]
  },
  {
   "cell_type": "code",
   "execution_count": 8,
   "metadata": {
    "slideshow": {
     "slide_type": "-"
    }
   },
   "outputs": [
    {
     "name": "stdout",
     "output_type": "stream",
     "text": [
      "[25, 16, 9, 4, 1, 0.0, 1.0, 1.4142135623730951, 1.7320508075688772, 2.0, 2.23606797749979]\n"
     ]
    }
   ],
   "source": [
    "# Defining our function with conditionals\n",
    "def sq_or_sqrt(x):\n",
    "    \"\"\"Assumes x is numeric. Returns the square of x if x is negative\n",
    "    and the square root of x if x is nonnegative.\n",
    "    \"\"\"\n",
    "    if x < 0:\n",
    "        return x**2\n",
    "    else:\n",
    "        return x**0.5\n",
    "\n",
    "# Run our function on each item in a list of -5 to 5\n",
    "lst = [sq_or_sqrt(i) for i in range(-5, 6)]\n",
    "print(lst)\n"
   ]
  },
  {
   "cell_type": "code",
   "execution_count": 20,
   "metadata": {
    "slideshow": {
     "slide_type": "-"
    }
   },
   "outputs": [
    {
     "data": {
      "text/plain": [
       "[None, None, 2, 178, None, 12, None, None, 12]"
      ]
     },
     "execution_count": 20,
     "metadata": {},
     "output_type": "execute_result"
    }
   ],
   "source": [
    "# Exercise 4: Using a function and a list comprehension, \n",
    "# create a new list that has the numbers from testlist \n",
    "# if they are positive and None otherwise\n",
    "\n",
    "testlist = [-1, 0, 2, 178, -17.2, 12, -2, -3, 12]\n",
    "def what_the_func(num):\n",
    "    if num > 0:\n",
    "        return num\n",
    "    else:\n",
    "        return None\n",
    "    \n",
    "\n",
    "[what_the_func(x) for x in testlist]\n"
   ]
  },
  {
   "cell_type": "code",
   "execution_count": 34,
   "metadata": {
    "slideshow": {
     "slide_type": "-"
    }
   },
   "outputs": [
    {
     "data": {
      "text/plain": [
       "[None, 0.0, None, 89.0, -1.4333333333333333, 24.0, None, -12.0, None]"
      ]
     },
     "execution_count": 34,
     "metadata": {},
     "output_type": "execute_result"
    }
   ],
   "source": [
    "# Exercise 5: Using a function and a list comprehension, create \n",
    "# a new list that includes the result from dividing each number \n",
    "# from testlist1 by the corresponding number in testlist2; \n",
    "# For the cases when the divisor is 0, the new list should include None\n",
    "\n",
    "\n",
    "testlist1 = [-1, 0, 2, 178, -17.2, 12, -2, -3, 12]\n",
    "testlist2 = [0, 5, 0, 2, 12, 0.5, 0, 0.25, 0]\n",
    "\n",
    "def func_you_talking_about(index_val, list1, list2):\n",
    "    \n",
    "    if list2[index_val] != 0:\n",
    "        return list1[index_val] / list2[index_val]\n",
    "    \n",
    "    else:\n",
    "        return None\n",
    "    \n",
    "\n",
    "[func_you_talking_about(x, testlist1, testlist2) for x in range(0, len(testlist1))]\n",
    "\n",
    "###### Use this approach in the assignment ##################\n",
    "def divide_or_none(x,y):\n",
    "    if y!= 0:\n",
    "        return x/y\n",
    "    return None\n",
    "\n",
    "[divide_or_none(testlist1[i], testlist2[i]) for i in range(len(testlist1))]"
   ]
  },
  {
   "cell_type": "markdown",
   "metadata": {
    "slideshow": {
     "slide_type": "slide"
    }
   },
   "source": [
    "## Using Functions For General Cases"
   ]
  },
  {
   "cell_type": "code",
   "execution_count": 40,
   "metadata": {},
   "outputs": [],
   "source": [
    "class color:\n",
    "   PURPLE = '\\033[95m'\n",
    "   CYAN = '\\033[96m'\n",
    "   DARKCYAN = '\\033[36m'\n",
    "   BLUE = '\\033[94m'\n",
    "   GREEN = '\\033[92m'\n",
    "   YELLOW = '\\033[93m'\n",
    "   RED = '\\033[91m'\n",
    "   BOLD = '\\033[1m'\n",
    "   UNDERLINE = '\\033[4m'\n",
    "   END = '\\033[0m'\n"
   ]
  },
  {
   "cell_type": "code",
   "execution_count": 56,
   "metadata": {
    "slideshow": {
     "slide_type": "-"
    }
   },
   "outputs": [],
   "source": [
    "# Exercise 6: Write a Python function that checks if a string \n",
    "# is a palindrome. A palindrome is a word or a phrase that reads \n",
    "# the same backward as forward. For example, redder, nurses run, dad...\n",
    "def string_boi(some_string):\n",
    "    if some_string == some_string[::-1]:\n",
    "        print(some_string + \" is a palindrome! \"+ color.BOLD + color.GREEN + \"YEEEEEET\")\n",
    "        \n",
    "    else: \n",
    "        print(some_string + \" is NOT a palindrome! \"+ color.BOLD + color.RED + color.UNDERLINE + \"YEEEEEET\")"
   ]
  },
  {
   "cell_type": "code",
   "execution_count": 48,
   "metadata": {},
   "outputs": [
    {
     "name": "stdout",
     "output_type": "stream",
     "text": [
      "redder is a palindrome! \u001b[1m\u001b[92mYEEEEEET\n"
     ]
    }
   ],
   "source": [
    "string_boi(\"redder\")"
   ]
  },
  {
   "cell_type": "code",
   "execution_count": 60,
   "metadata": {},
   "outputs": [
    {
     "name": "stdout",
     "output_type": "stream",
     "text": [
      "jet fuel doesn't melt steel beams is NOT a palindrome! \u001b[1m\u001b[91m\u001b[4mYEEEEEET\n"
     ]
    }
   ],
   "source": [
    "string_boi(\"jet fuel doesn't melt steel beams\")"
   ]
  },
  {
   "cell_type": "markdown",
   "metadata": {},
   "source": [
    "# Key Terminology for the Assignment\n",
    "\n",
    "\n",
    "**K-means Clustering:** A type of unsupervised learning, which is used when you have unlabeled data (i.e., data without defined categories or groups). The goal of this algorithm is to find groups in the data, with the number of groups represented by the variable K. Data points are clustered based on feature similarity. \n",
    "*Video visually explaining how k-means works: https://www.youtube.com/watch?v=4b5d3muPQmA*\n",
    "\n",
    "**Coordinates:** In the assignment, the coordinates are each number in thge list. n-coordinates is number of cooridinates in the list. A list of coordinates is the \"point\", mapping it onto a 3D anxis (x, y, z).\n",
    "\n",
    "**Iterating:** Iteration in programming means repeating steps, or instructions , over and over again. This is often called a 'loop'.\n",
    "\n",
    "**Cluster:** A group of points.\n",
    "\n",
    "**Centeroid:** The arithmetic mean position of all the points in the figure. So we take the mean of the coordinate at the same index in the points.\n",
    "\n",
    "**Converges:** The idea that different sequences of transformations come to a conclusion in a finite amount of time.\n",
    "\n",
    "**Naive method:** An implementation that has taken shortcuts for the sake of simplicity or by lack of knowledge. It will not take account for all the possible uses cases or don't try to fit in every situation.\n",
    "\n",
    "**Euclidean Distance:**  The plane or 3-dimensional space measures the length of a segment connecting the two points. You can find the formula on the Wikipedia page.\n",
    "\n",
    "**Dimensions:** The measure of the size or distance of an object in one direction. The number of coordinates in the exercises is the number of dimensions.\n",
    "\n",
    "\n",
    "\n",
    "***HINT:*** In the final problem, the comment blocks are the steps that you need to take and a way to break down your approach to the exercise.\n",
    "\n"
   ]
  }
 ],
 "metadata": {
  "celltoolbar": "Slideshow",
  "kernelspec": {
   "display_name": "Python 3 (ipykernel)",
   "language": "python",
   "name": "python3"
  },
  "language_info": {
   "codemirror_mode": {
    "name": "ipython",
    "version": 3
   },
   "file_extension": ".py",
   "mimetype": "text/x-python",
   "name": "python",
   "nbconvert_exporter": "python",
   "pygments_lexer": "ipython3",
   "version": "3.9.7"
  }
 },
 "nbformat": 4,
 "nbformat_minor": 2
}
