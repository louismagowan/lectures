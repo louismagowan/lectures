{
 "cells": [
  {
   "cell_type": "markdown",
   "metadata": {
    "slideshow": {
     "slide_type": "slide"
    }
   },
   "source": [
    "### MY470 Computer Programming\n",
    "# For-Loops and List Comprehensions in Python\n",
    "### Week 3 Lab"
   ]
  },
  {
   "cell_type": "markdown",
   "metadata": {},
   "source": [
    "## Points of Discussion\n",
    "\n",
    "1. Email Etiquette (Reiterating Milena's points from the Q&A)\n",
    "2. Questions on Week02 Assignments\n",
    "3. Questions from Lectures\n",
    "\n",
    "Example answers repo: https://github.com/lse-my470/answers-to-assignments"
   ]
  },
  {
   "cell_type": "markdown",
   "metadata": {
    "slideshow": {
     "slide_type": "slide"
    }
   },
   "source": [
    "## Control Flow and Indentation\n",
    "\n",
    "**Control Flow:**\n",
    "The order in which the computer executes statements in a script. Control flow means that when you read a script, you must not only read from start to finish but also look at program structure and how it affects order of execution.\n",
    "\n",
    "**Indentation:** \n",
    "For loops are one of many places that Python depends on indentation. The indentation tells Python which statements are in the loop, and which are outside the loop. \n",
    "\n",
    "**A for loop:**\n",
    "A conditional iterative statement which is used to check for certain conditions and then repeatedly execute a block of code as long as those conditions are met. As we can see below \"for\" and \"in\" are a reserved words, and turn green.\n",
    "```python\n",
    "\n",
    "for i in variable:\n",
    "    # code goes here\n",
    "\n",
    "```\n",
    "Here, ```i``` is a temporary variable used to store the integer value of the current position in the range of the for loop that only has scope within its for loop. You could use any other variable name in place of \"i\" such as \"count\" or \"x\" or \"number\". When you are using nested loops (one loop inside the other) or more complicated control flow you may choose to have more explanatory temporary names.\n",
    "\n",
    "```python\n",
    "for name in name_list:\n",
    "    # code goes here.\n",
    "```"
   ]
  },
  {
   "cell_type": "code",
   "execution_count": 8,
   "metadata": {},
   "outputs": [
    {
     "name": "stdout",
     "output_type": "stream",
     "text": [
      "Sian\n",
      "Patrick\n",
      "Milena\n"
     ]
    }
   ],
   "source": [
    "# Simple Example\n",
    "\n",
    "names_list = [\"Sian\", \"Patrick\", \"Milena\"]\n",
    "\n",
    "for i in names_list:\n",
    "    # Use print statements to understand how your for loop is working\n",
    "    print(i)\n",
    "    # Remember i is a temp var"
   ]
  },
  {
   "cell_type": "markdown",
   "metadata": {},
   "source": [
    "## Understanding Errors in for loops.\n",
    "\n",
    "### General SyntaxError\n",
    "The line with for must end in a colon (:), otherwise you will get a ```SyntaxError```. For example:\n",
    "```\n",
    "File \"<ipython-input-3-16abb556f86c>\", line 2\n",
    "    for i in names_list\n",
    "                       ^\n",
    "SyntaxError: invalid syntax\n",
    "```\n",
    "\n",
    "### SyntaxError: EOF \n",
    "If you don't finish the loop, or don't end the code properly (i.e. python was expecting more, such as a close bracket) you will get a EOF error.\n",
    "\n",
    "The ```SyntaxError: unexpected EOF while parsing``` error occurs when the end of your source code is reached before all code is executed. This happens when you make a mistake in the structure, or syntax, of your code. EOF stands for End of File. This represents the last character in a Python program.\n",
    "```\n",
    "File \"<ipython-input-4-d5c917508587>\", line 2\n",
    "    for i in names_list:\n",
    "                        ^\n",
    "SyntaxError: unexpected EOF while parsing\n",
    "```\n",
    "\n",
    "### IndentationError\n",
    "The cause of the ```IndentationError: unexpected indent``` error is indenting your code too far, or using too many tabs and spaces to indent a line of code. The other indentation errors you may encounter are: Unindent does not match any other indentation level. Expected an indented block.\n",
    "```\n",
    "  File \"<ipython-input-5-5fb67888032f>\", line 3\n",
    "    print(i)\n",
    "    ^\n",
    "IndentationError: expected an indented block\n",
    "```\n",
    "If you aren't indenting correctly, a function will likely turn red instead of green."
   ]
  },
  {
   "cell_type": "markdown",
   "metadata": {
    "slideshow": {
     "slide_type": "-"
    }
   },
   "source": [
    "### Namespace and Scope\n",
    "\n",
    "The **namespaces** are the structures used to organize the symbolic names assigned to objects (variables) in a python program.\n",
    "\n",
    "An assignment statement creates a symbolic name that you can use to reference an object i.e. ```name = \"Sian\"```.\n",
    "\n",
    "\n",
    "The **scope** defines the accessibility of the python object. To access the particular variable in the code, the scope must be defined as it cannot be accessed from anywhere in the program. The particular coding region where variables are visible is known as scope. For example:\n",
    "\n",
    "```python\n",
    "for name in name_list:\n",
    "    # In scope\n",
    "    print(name)\n",
    "# Out of scope\n",
    "print(name)\n",
    "```\n",
    "You will likely get a IndentationError or UnboundLocalError when this happens. However, the exact error will depend on the complexity of the code."
   ]
  },
  {
   "cell_type": "markdown",
   "metadata": {},
   "source": [
    "### Flow and Conditionals\n",
    "\n",
    "We can use ```if``` statements within a for loop.\n",
    "\n",
    "```python\n",
    "\n",
    "# If the number is positive, we print an appropriate message\n",
    "\n",
    "num = 3\n",
    "if num > 0:\n",
    "    print(num, \"is a positive number.\")\n",
    "print(\"This is always printed.\")\n",
    "\n",
    "num = -1\n",
    "if num > 0:\n",
    "    print(num, \"is a positive number.\")\n",
    "print(\"This is also always printed.\")\n",
    "```\n",
    "We can use these within a for loop. This means when we iterate over each item when can see if it matches a condition that we set.\n",
    "\n",
    "The ```if...else``` statement evaluates test expression and will execute the body of ```if``` only when the test condition is ```True```. If the condition is ```False```, the body of ```else``` is executed. Indentation is used to separate the blocks.\n",
    "\n",
    "```python\n",
    "\n",
    "# Program checks if the number is positive or negative\n",
    "# And displays the message based on conditions.\n",
    "\n",
    "num = 3\n",
    "\n",
    "# In your own time you can try these two variations as well. \n",
    "# num = -5\n",
    "# num = 0\n",
    "\n",
    "if num >= 0:\n",
    "    print(\"Positive or Zero\")\n",
    "else:\n",
    "    print(\"Negative number\")\n",
    "```"
   ]
  },
  {
   "cell_type": "markdown",
   "metadata": {},
   "source": [
    "## Putting it all together.\n",
    "\n",
    "```python\n",
    "for i in list: \n",
    "    # inside the for-loop\n",
    "    if something is TRUE:\n",
    "        # inside the if statement\n",
    "        do something\n",
    "    else:\n",
    "        # inside the else statement\n",
    "        do something\n",
    "    # inside the for-loop, but not in the if or else statement anymore\n",
    "    do something  \n",
    "# outside of the for-loop\n",
    "do something\n",
    "```"
   ]
  },
  {
   "cell_type": "code",
   "execution_count": 1,
   "metadata": {
    "collapsed": true,
    "slideshow": {
     "slide_type": "slide"
    }
   },
   "outputs": [],
   "source": [
    "# Exercise 1: Create a list that contains all integers from 1 to 100 (inclusive), \n",
    "# except that it has the string 'boo' for every integer that is divisible by 3 \n",
    "# Your list should look like: [1, 2, 'boo', 4, 5, 'boo', 7, 8, 'boo', 10, ...]\n",
    "\n",
    "# ADVANCED: Try and complete the task with a list comprehension"
   ]
  },
  {
   "cell_type": "code",
   "execution_count": 2,
   "metadata": {
    "collapsed": true,
    "slideshow": {
     "slide_type": "-"
    }
   },
   "outputs": [],
   "source": [
    "# Exercise 2: Sum the even integers from the list below.\n",
    "lst = [1, 3, 2, 4.5, 7, 8, 10, 3, 5, 4, 7, 3.33]\n",
    "\n"
   ]
  },
  {
   "cell_type": "markdown",
   "metadata": {
    "slideshow": {
     "slide_type": "slide"
    }
   },
   "source": [
    "## List Comprehensions\n",
    "\n",
    "Create a new list based on another one.\n",
    "\n",
    "List comprehension is an pretty way to define and create lists based on existing lists\n",
    "\n",
    "List comprehensions are generally more compact and faster than normal functions and loops for creating list. However, we should avoid writing very long list comprehensions in one line to ensure that code is user-friendly.\n",
    "\n",
    "With a for-loop: \n",
    "\n",
    "```python\n",
    "newlst = []\n",
    "for i in lst:\n",
    "    if something is TRUE:\n",
    "        j = do something to i\n",
    "        newlst.append(j)\n",
    "```    \n",
    "\n",
    "With a list comprehension: \n",
    "\n",
    "```python\n",
    "newlst = [do something to i for i in lst if something is TRUE] \n",
    "```\n",
    "\n",
    "Or alternatively (for multiple conditions):\n",
    "```python\n",
    "output = [expression for element in list_1 if condition_1 if condition_2]\n",
    "```"
   ]
  },
  {
   "cell_type": "code",
   "execution_count": 12,
   "metadata": {},
   "outputs": [
    {
     "name": "stdout",
     "output_type": "stream",
     "text": [
      "Old List: ['apple', 'banana', 'cherry', 'kiwi', 'mango']\n",
      "\n",
      "New List: ['apple', 'banana', 'mango']\n"
     ]
    }
   ],
   "source": [
    "# Example:\n",
    "\n",
    "fruits = [\"apple\", \"banana\", \"cherry\", \"kiwi\", \"mango\"]\n",
    "\n",
    "# Again, we can change our temp var names. Here we are using \"x\"\n",
    "newlist = [x for x in fruits if \"a\" in x]\n",
    "\n",
    "print(\"Old List:\", fruits)\n",
    "print(\"\\nNew List:\", newlist)"
   ]
  },
  {
   "cell_type": "code",
   "execution_count": 3,
   "metadata": {
    "collapsed": true,
    "slideshow": {
     "slide_type": "slide"
    }
   },
   "outputs": [],
   "source": [
    "# Exercise 3: Using a list comprehension, create a new list containing \n",
    "# the squares of the integers in the list below\n",
    "lst = [1, 3, 2, 4.5, 7, 8, 10, 3, 5, 4, 7, 3.33]\n",
    "\n"
   ]
  },
  {
   "cell_type": "code",
   "execution_count": 4,
   "metadata": {
    "collapsed": true,
    "slideshow": {
     "slide_type": "-"
    }
   },
   "outputs": [],
   "source": [
    "# Exercise 4: Consider the lists x and y below. Using a list comprehension,\n",
    "# create a list that contains all combinations of (elem_x, elem_y) \n",
    "# such that elem_x + elem_y = 6\n",
    "# Your answer should look as follows: [(0, 6), (1, 5), (2, 4), (3, 3)]\n",
    "x = [0, 1, 2, 3]\n",
    "y = [3, 4, 5, 6]\n",
    "\n"
   ]
  },
  {
   "cell_type": "code",
   "execution_count": 5,
   "metadata": {
    "collapsed": true,
    "slideshow": {
     "slide_type": "-"
    }
   },
   "outputs": [],
   "source": [
    "# Exercise 5: Using nested list comprehensions and range(), create a list \n",
    "# that looks as follows: [[0, 1, 2, 3], [1, 2, 3], [2, 3], [3]]\n",
    "\n"
   ]
  },
  {
   "cell_type": "markdown",
   "metadata": {
    "slideshow": {
     "slide_type": "slide"
    }
   },
   "source": [
    "## Iterating over Dictionaries\n",
    "\n",
    "A **dictionary** is an unordered and mutable Python container that stores mappings of unique keys to values. Dictionaries are written with curly brackets ({}), including key-value pairs separated by commas (,). A colon (:) separates each key from its value.\n",
    "\n",
    "```python\n",
    "# Abstract\n",
    "dict = {key_1: value_1, key_2: value_2}\n",
    "```"
   ]
  },
  {
   "cell_type": "code",
   "execution_count": 22,
   "metadata": {},
   "outputs": [
    {
     "data": {
      "text/plain": [
       "{'Seminars': 'Dr Sian Brooke',\n",
       " 'Lectures': 'Prof Milena Tsvetkova',\n",
       " 'class size': 18,\n",
       " 'course_code': 'MY470'}"
      ]
     },
     "execution_count": 22,
     "metadata": {},
     "output_type": "execute_result"
    }
   ],
   "source": [
    "# Example\n",
    "c_code = \"MY470\"\n",
    "\n",
    "teach_dict = {\"Seminars\": \"Dr Sian Brooke\", \"Lectures\": \"Prof Milena Tsvetkova\", \"class size\": 18,\n",
    "             \"course_code\": c_code}\n",
    "\n",
    "teach_dict \n",
    "# Can ouput like this (if last line in cell), but generally should use the print()"
   ]
  },
  {
   "cell_type": "code",
   "execution_count": 26,
   "metadata": {
    "slideshow": {
     "slide_type": "-"
    }
   },
   "outputs": [
    {
     "name": "stdout",
     "output_type": "stream",
     "text": [
      "Keys: a\n",
      "Keys: b\n",
      "Keys: c\n",
      "Values: apple\n",
      "Values: beetle\n",
      "Values: cat\n",
      "Values: apple\n",
      "Values: beetle\n",
      "Values: cat\n",
      "('a', 'apple')\n",
      "('b', 'beetle')\n",
      "('c', 'cat')\n",
      "a : apple\n",
      "b : beetle\n",
      "c : cat\n"
     ]
    }
   ],
   "source": [
    "letters = {'a':'apple', 'b': 'beetle', 'c': 'cat'}\n",
    "\n",
    "# Print the keys of the dictionary.\n",
    "# This is what is on the left of the colon.\n",
    "\n",
    "for i in letters:  # equivalent to: for i in letters.keys():\n",
    "    print(\"Keys:\", i)\n",
    "\n",
    "# Print the values of the dictionary.\n",
    "# This is what is right of the colon.\n",
    "for i in letters:\n",
    "    print(\"Values:\", letters[i])\n",
    "    \n",
    "# equivalent to:\n",
    "for i in letters.values(): \n",
    "    print(\"Values:\", i)\n",
    "    \n",
    "# The items() dict method returns the the key-value pairs of the \n",
    "# dictionary, as tuples in a list\n",
    "for i in letters.items():\n",
    "    print(i)\n",
    "\n",
    "# Access both the key and value in a dict at once.\n",
    "# note that i and j are typical to use here, but we can\n",
    "# use any word instead.\n",
    "for i, j in letters.items(): \n",
    "    print(i, \":\", j)\n",
    "    "
   ]
  },
  {
   "cell_type": "code",
   "execution_count": 7,
   "metadata": {
    "collapsed": true,
    "slideshow": {
     "slide_type": "slide"
    }
   },
   "outputs": [],
   "source": [
    "# Exercise 6: Using a dictionary comprehension, create a new dictionary that\n",
    "# contains the keys from dictionary letters that are strings, with the value for\n",
    "# each key assigned to be an empty list\n",
    "# The new dictionary should look as follows: {'a':[], 'b':[], 'c':[], 'd':[]}\n",
    "\n",
    "letters = {'a':'apple', 4: None, 'b': 'beetle', 'c': 'cat', 2: None, 'd': 'diamond'}\n",
    "\n"
   ]
  },
  {
   "cell_type": "code",
   "execution_count": 8,
   "metadata": {
    "collapsed": true,
    "slideshow": {
     "slide_type": "-"
    }
   },
   "outputs": [],
   "source": [
    "# Exercise 7: Now, distribute the words from the list below to the new dictionary\n",
    "# according to their first letter\n",
    "\n",
    "# So words that begin with \"a\" in values associated with the \"a\" key etc.\n",
    "\n",
    "dic = {'a': [], 'b': [], 'c': [], 'd': []}\n",
    "wordlst = ['a', 'be', 'an', 'the', 'can', 'do', 'did', 'to', 'been'\n"
   ]
  },
  {
   "cell_type": "markdown",
   "metadata": {
    "slideshow": {
     "slide_type": "slide"
    }
   },
   "source": [
    "## Best Practice: Beware of Iterating over Unordered Collections\n",
    "\n",
    "* (In Python 3.6 dictionaries are now implemented as ordered but you should not rely on this!)\n",
    "* For unordered collections, the ordering of elements is determined by how the elements are stored in memory\n"
   ]
  },
  {
   "cell_type": "code",
   "execution_count": 11,
   "metadata": {
    "slideshow": {
     "slide_type": "-"
    }
   },
   "outputs": [
    {
     "name": "stdout",
     "output_type": "stream",
     "text": [
      "List: [1, 2, 4, 8, 1, 2]\n",
      "Set: [8, 1, 2, 4]\n"
     ]
    }
   ],
   "source": [
    "lst = [1, 2, 4, 8, 1, 2]\n",
    "# Remember that a set is an unordered and mutable collection of unique elements.\n",
    "st = set(lst)\n",
    "\n",
    "print(\"List:\", [i for i in lst])    \n",
    "print(\"Set:\", [i for i in st]) \n",
    "\n",
    "# The product of a list comprehension is a list.\n",
    "# Just becuase it works, doesn't means that it is best practise."
   ]
  },
  {
   "cell_type": "markdown",
   "metadata": {
    "slideshow": {
     "slide_type": "slide"
    }
   },
   "source": [
    "## Best Practice: Avoid Mutating a List When Iterating over It\n",
    "\n",
    "This means that we don't want to **change** a list (or object) when reading through it. "
   ]
  },
  {
   "cell_type": "code",
   "execution_count": 15,
   "metadata": {
    "slideshow": {
     "slide_type": "-"
    }
   },
   "outputs": [
    {
     "name": "stdout",
     "output_type": "stream",
     "text": [
      "[0, 1, 2, 3, 4, 5, 6, 7, 8, 9]\n",
      "value at i: 0 Removed: 0 List: [1, 2, 3, 4, 5, 6, 7, 8, 9]\n",
      "value at i: 2 Removed: 3 List: [1, 2, 4, 5, 6, 7, 8, 9]\n",
      "value at i: 4 Removed: 6 List: [1, 2, 4, 5, 7, 8, 9]\n",
      "value at i: 5 Removed: 8 List: [1, 2, 4, 5, 7, 9]\n"
     ]
    },
    {
     "ename": "IndexError",
     "evalue": "pop index out of range",
     "output_type": "error",
     "traceback": [
      "\u001b[1;31m---------------------------------------------------------------------------\u001b[0m",
      "\u001b[1;31mIndexError\u001b[0m                                Traceback (most recent call last)",
      "\u001b[1;32m<ipython-input-15-f50b714de46e>\u001b[0m in \u001b[0;36m<module>\u001b[1;34m\u001b[0m\n\u001b[0;32m      6\u001b[0m \u001b[1;32mfor\u001b[0m \u001b[0mi\u001b[0m \u001b[1;32min\u001b[0m \u001b[0mlst\u001b[0m\u001b[1;33m:\u001b[0m\u001b[1;33m\u001b[0m\u001b[1;33m\u001b[0m\u001b[0m\n\u001b[0;32m      7\u001b[0m     \u001b[1;31m# Remove the item from the list using pop\u001b[0m\u001b[1;33m\u001b[0m\u001b[1;33m\u001b[0m\u001b[1;33m\u001b[0m\u001b[0m\n\u001b[1;32m----> 8\u001b[1;33m     \u001b[0mpopped\u001b[0m \u001b[1;33m=\u001b[0m \u001b[0mlst\u001b[0m\u001b[1;33m.\u001b[0m\u001b[0mpop\u001b[0m\u001b[1;33m(\u001b[0m\u001b[0mi\u001b[0m\u001b[1;33m)\u001b[0m\u001b[1;33m\u001b[0m\u001b[1;33m\u001b[0m\u001b[0m\n\u001b[0m\u001b[0;32m      9\u001b[0m     \u001b[1;31m# Print what was removed and the remaining list.\u001b[0m\u001b[1;33m\u001b[0m\u001b[1;33m\u001b[0m\u001b[1;33m\u001b[0m\u001b[0m\n\u001b[0;32m     10\u001b[0m     \u001b[0mprint\u001b[0m\u001b[1;33m(\u001b[0m\u001b[1;34m\"value at i:\"\u001b[0m\u001b[1;33m,\u001b[0m \u001b[0mi\u001b[0m\u001b[1;33m,\u001b[0m \u001b[1;34m\"Removed:\"\u001b[0m\u001b[1;33m,\u001b[0m \u001b[0mpopped\u001b[0m\u001b[1;33m,\u001b[0m \u001b[1;34m\"List:\"\u001b[0m\u001b[1;33m,\u001b[0m \u001b[0mlst\u001b[0m\u001b[1;33m)\u001b[0m\u001b[1;33m\u001b[0m\u001b[1;33m\u001b[0m\u001b[0m\n",
      "\u001b[1;31mIndexError\u001b[0m: pop index out of range"
     ]
    }
   ],
   "source": [
    "# List comprehension to create a list of numbers from 0 to 9.\n",
    "lst = [i for i in range(10)]\n",
    "print(lst)\n",
    "\n",
    "# Iterate over the list\n",
    "for i in lst:\n",
    "    # Remove the item from the list using pop\n",
    "    popped = lst.pop(i)\n",
    "    # Print what was removed and the remaining list.\n",
    "    print(\"value at i:\", i, \"Removed:\", popped, \"List:\", lst)\n",
    "\n",
    "# We can see here that i is the index\n",
    "# Because we are changing the list as we iterate over it, \n",
    "# we get a IndexError. Meaning we are trying to access\n",
    "# a Index that is longer than the list."
   ]
  }
 ],
 "metadata": {
  "celltoolbar": "Slideshow",
  "kernelspec": {
   "display_name": "Python 3 (ipykernel)",
   "language": "python",
   "name": "python3"
  },
  "language_info": {
   "codemirror_mode": {
    "name": "ipython",
    "version": 3
   },
   "file_extension": ".py",
   "mimetype": "text/x-python",
   "name": "python",
   "nbconvert_exporter": "python",
   "pygments_lexer": "ipython3",
   "version": "3.9.7"
  }
 },
 "nbformat": 4,
 "nbformat_minor": 2
}
